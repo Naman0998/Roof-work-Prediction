{
  "nbformat": 4,
  "nbformat_minor": 0,
  "metadata": {
    "colab": {
      "provenance": []
    },
    "kernelspec": {
      "name": "python3",
      "display_name": "Python 3"
    },
    "language_info": {
      "name": "python"
    }
  },
  "cells": [
    {
      "cell_type": "code",
      "execution_count": 1,
      "metadata": {
        "colab": {
          "base_uri": "https://localhost:8080/"
        },
        "id": "6mly6AlUl7vA",
        "outputId": "2250ecc7-0d00-4a1e-ce0f-c328a4386807"
      },
      "outputs": [
        {
          "output_type": "stream",
          "name": "stdout",
          "text": [
            "Collecting Catboost\n",
            "  Downloading catboost-1.2.8-cp312-cp312-manylinux2014_x86_64.whl.metadata (1.2 kB)\n",
            "Requirement already satisfied: graphviz in /usr/local/lib/python3.12/dist-packages (from Catboost) (0.21)\n",
            "Requirement already satisfied: matplotlib in /usr/local/lib/python3.12/dist-packages (from Catboost) (3.10.0)\n",
            "Requirement already satisfied: numpy<3.0,>=1.16.0 in /usr/local/lib/python3.12/dist-packages (from Catboost) (2.0.2)\n",
            "Requirement already satisfied: pandas>=0.24 in /usr/local/lib/python3.12/dist-packages (from Catboost) (2.2.2)\n",
            "Requirement already satisfied: scipy in /usr/local/lib/python3.12/dist-packages (from Catboost) (1.16.1)\n",
            "Requirement already satisfied: plotly in /usr/local/lib/python3.12/dist-packages (from Catboost) (5.24.1)\n",
            "Requirement already satisfied: six in /usr/local/lib/python3.12/dist-packages (from Catboost) (1.17.0)\n",
            "Requirement already satisfied: python-dateutil>=2.8.2 in /usr/local/lib/python3.12/dist-packages (from pandas>=0.24->Catboost) (2.9.0.post0)\n",
            "Requirement already satisfied: pytz>=2020.1 in /usr/local/lib/python3.12/dist-packages (from pandas>=0.24->Catboost) (2025.2)\n",
            "Requirement already satisfied: tzdata>=2022.7 in /usr/local/lib/python3.12/dist-packages (from pandas>=0.24->Catboost) (2025.2)\n",
            "Requirement already satisfied: contourpy>=1.0.1 in /usr/local/lib/python3.12/dist-packages (from matplotlib->Catboost) (1.3.3)\n",
            "Requirement already satisfied: cycler>=0.10 in /usr/local/lib/python3.12/dist-packages (from matplotlib->Catboost) (0.12.1)\n",
            "Requirement already satisfied: fonttools>=4.22.0 in /usr/local/lib/python3.12/dist-packages (from matplotlib->Catboost) (4.59.1)\n",
            "Requirement already satisfied: kiwisolver>=1.3.1 in /usr/local/lib/python3.12/dist-packages (from matplotlib->Catboost) (1.4.9)\n",
            "Requirement already satisfied: packaging>=20.0 in /usr/local/lib/python3.12/dist-packages (from matplotlib->Catboost) (25.0)\n",
            "Requirement already satisfied: pillow>=8 in /usr/local/lib/python3.12/dist-packages (from matplotlib->Catboost) (11.3.0)\n",
            "Requirement already satisfied: pyparsing>=2.3.1 in /usr/local/lib/python3.12/dist-packages (from matplotlib->Catboost) (3.2.3)\n",
            "Requirement already satisfied: tenacity>=6.2.0 in /usr/local/lib/python3.12/dist-packages (from plotly->Catboost) (8.5.0)\n",
            "Downloading catboost-1.2.8-cp312-cp312-manylinux2014_x86_64.whl (99.2 MB)\n",
            "\u001b[2K   \u001b[90m━━━━━━━━━━━━━━━━━━━━━━━━━━━━━━━━━━━━━━━━\u001b[0m \u001b[32m99.2/99.2 MB\u001b[0m \u001b[31m9.0 MB/s\u001b[0m eta \u001b[36m0:00:00\u001b[0m\n",
            "\u001b[?25hInstalling collected packages: Catboost\n",
            "Successfully installed Catboost-1.2.8\n"
          ]
        }
      ],
      "source": [
        "!pip install Catboost"
      ]
    },
    {
      "cell_type": "markdown",
      "source": [
        "#Importing useful Libraries"
      ],
      "metadata": {
        "id": "LxvVjE4ymr-d"
      }
    },
    {
      "cell_type": "code",
      "source": [
        "import matplotlib.pyplot as plt\n",
        "import seaborn as sns\n",
        "import pandas as pd\n",
        "import numpy as np\n",
        "import joblib\n",
        "import time\n",
        "import re\n",
        "from sklearn.base import BaseEstimator, TransformerMixin\n",
        "from sklearn.preprocessing import StandardScaler\n",
        "from sklearn.model_selection import train_test_split, StratifiedKFold, RandomizedSearchCV\n",
        "from sklearn.metrics import (\n",
        "    roc_auc_score, average_precision_score, f1_score,\n",
        "    precision_recall_curve, confusion_matrix\n",
        ")\n",
        "from sklearn.pipeline import Pipeline\n",
        "from sklearn.ensemble import RandomForestClassifier, StackingClassifier\n",
        "from sklearn.linear_model import LogisticRegression\n",
        "from sklearn.model_selection import StratifiedKFold\n",
        "from sklearn.impute import SimpleImputer\n",
        "from imblearn.pipeline import Pipeline as ImbPipeline\n",
        "from imblearn.combine import SMOTEENN\n",
        "import catboost as cb\n",
        "from catboost import CatBoostClassifier"
      ],
      "metadata": {
        "id": "HEgLXzaxmKvm"
      },
      "execution_count": 2,
      "outputs": []
    },
    {
      "cell_type": "markdown",
      "source": [
        "#Loading Data (Merging and Cleaning)"
      ],
      "metadata": {
        "id": "ZpOIe2xCmxot"
      }
    },
    {
      "cell_type": "code",
      "source": [
        "start_time = time.time()\n",
        "intake_df = pd.read_excel('Intake.xlsx')\n",
        "work_df = pd.read_excel('WO.xlsx')\n",
        "\n",
        "intake_df['Opportunity ID'] = intake_df['Opportunity ID'].astype(str)\n",
        "work_df['Opportunity ID'] = work_df['Opportunity ID'].astype(str)\n",
        "\n",
        "merged_df = pd.merge(\n",
        "    intake_df, work_df[['Opportunity ID','Roof Work Needed']],\n",
        "    on='Opportunity ID', how='inner'\n",
        ").dropna(subset=['Roof Work Needed'])\n",
        "merged_df.head()"
      ],
      "metadata": {
        "colab": {
          "base_uri": "https://localhost:8080/",
          "height": 206
        },
        "id": "Z9w5hcIomw5C",
        "outputId": "6add4824-aa6b-44eb-e05f-86e98b060311"
      },
      "execution_count": 3,
      "outputs": [
        {
          "output_type": "execute_result",
          "data": {
            "text/plain": [
              "    Opportunity ID  Unnamed: 1         Opportunity Name Intake Number  \\\n",
              "0  0068X00001Ij6rQ         NaN            Robert Fitton      I-039391   \n",
              "1  0068X00001HrFvs         NaN  Zilola Bozorova meter 1      I-033568   \n",
              "2  0068X00001HbhQ8         NaN           Robert Mazzone      I-031411   \n",
              "3  0068X00001HbhmC         NaN              Travis Cote      I-031274   \n",
              "4  0068X00001Hs4X8         NaN            Daniel Fisher      I-034421   \n",
              "\n",
              "  How old is the roof? Number of Roof Layers Type of Roofing        County  \\\n",
              "0          11-15 years               Unknown    Pitched roof       Bristol   \n",
              "1           6-10 years                     1    Pitched roof      Brooklyn   \n",
              "2          11-15 years                     1    Pitched roof    Rockingham   \n",
              "3            0-5 years                     1    Pitched roof  Hillsborough   \n",
              "4              Unknown               Unknown    Pitched roof      Cheshire   \n",
              "\n",
              "  State Created Date Roof Work Needed  \n",
              "0    MA    5/15/2023               No  \n",
              "1    NY    3/31/2023              Yes  \n",
              "2    NH    3/14/2023               No  \n",
              "3    NH    3/14/2023               No  \n",
              "4    NH     4/5/2023              Yes  "
            ],
            "text/html": [
              "\n",
              "  <div id=\"df-c4d56108-b471-4106-b41f-ba9961ce9607\" class=\"colab-df-container\">\n",
              "    <div>\n",
              "<style scoped>\n",
              "    .dataframe tbody tr th:only-of-type {\n",
              "        vertical-align: middle;\n",
              "    }\n",
              "\n",
              "    .dataframe tbody tr th {\n",
              "        vertical-align: top;\n",
              "    }\n",
              "\n",
              "    .dataframe thead th {\n",
              "        text-align: right;\n",
              "    }\n",
              "</style>\n",
              "<table border=\"1\" class=\"dataframe\">\n",
              "  <thead>\n",
              "    <tr style=\"text-align: right;\">\n",
              "      <th></th>\n",
              "      <th>Opportunity ID</th>\n",
              "      <th>Unnamed: 1</th>\n",
              "      <th>Opportunity Name</th>\n",
              "      <th>Intake Number</th>\n",
              "      <th>How old is the roof?</th>\n",
              "      <th>Number of Roof Layers</th>\n",
              "      <th>Type of Roofing</th>\n",
              "      <th>County</th>\n",
              "      <th>State</th>\n",
              "      <th>Created Date</th>\n",
              "      <th>Roof Work Needed</th>\n",
              "    </tr>\n",
              "  </thead>\n",
              "  <tbody>\n",
              "    <tr>\n",
              "      <th>0</th>\n",
              "      <td>0068X00001Ij6rQ</td>\n",
              "      <td>NaN</td>\n",
              "      <td>Robert Fitton</td>\n",
              "      <td>I-039391</td>\n",
              "      <td>11-15 years</td>\n",
              "      <td>Unknown</td>\n",
              "      <td>Pitched roof</td>\n",
              "      <td>Bristol</td>\n",
              "      <td>MA</td>\n",
              "      <td>5/15/2023</td>\n",
              "      <td>No</td>\n",
              "    </tr>\n",
              "    <tr>\n",
              "      <th>1</th>\n",
              "      <td>0068X00001HrFvs</td>\n",
              "      <td>NaN</td>\n",
              "      <td>Zilola Bozorova meter 1</td>\n",
              "      <td>I-033568</td>\n",
              "      <td>6-10 years</td>\n",
              "      <td>1</td>\n",
              "      <td>Pitched roof</td>\n",
              "      <td>Brooklyn</td>\n",
              "      <td>NY</td>\n",
              "      <td>3/31/2023</td>\n",
              "      <td>Yes</td>\n",
              "    </tr>\n",
              "    <tr>\n",
              "      <th>2</th>\n",
              "      <td>0068X00001HbhQ8</td>\n",
              "      <td>NaN</td>\n",
              "      <td>Robert Mazzone</td>\n",
              "      <td>I-031411</td>\n",
              "      <td>11-15 years</td>\n",
              "      <td>1</td>\n",
              "      <td>Pitched roof</td>\n",
              "      <td>Rockingham</td>\n",
              "      <td>NH</td>\n",
              "      <td>3/14/2023</td>\n",
              "      <td>No</td>\n",
              "    </tr>\n",
              "    <tr>\n",
              "      <th>3</th>\n",
              "      <td>0068X00001HbhmC</td>\n",
              "      <td>NaN</td>\n",
              "      <td>Travis Cote</td>\n",
              "      <td>I-031274</td>\n",
              "      <td>0-5 years</td>\n",
              "      <td>1</td>\n",
              "      <td>Pitched roof</td>\n",
              "      <td>Hillsborough</td>\n",
              "      <td>NH</td>\n",
              "      <td>3/14/2023</td>\n",
              "      <td>No</td>\n",
              "    </tr>\n",
              "    <tr>\n",
              "      <th>4</th>\n",
              "      <td>0068X00001Hs4X8</td>\n",
              "      <td>NaN</td>\n",
              "      <td>Daniel Fisher</td>\n",
              "      <td>I-034421</td>\n",
              "      <td>Unknown</td>\n",
              "      <td>Unknown</td>\n",
              "      <td>Pitched roof</td>\n",
              "      <td>Cheshire</td>\n",
              "      <td>NH</td>\n",
              "      <td>4/5/2023</td>\n",
              "      <td>Yes</td>\n",
              "    </tr>\n",
              "  </tbody>\n",
              "</table>\n",
              "</div>\n",
              "    <div class=\"colab-df-buttons\">\n",
              "\n",
              "  <div class=\"colab-df-container\">\n",
              "    <button class=\"colab-df-convert\" onclick=\"convertToInteractive('df-c4d56108-b471-4106-b41f-ba9961ce9607')\"\n",
              "            title=\"Convert this dataframe to an interactive table.\"\n",
              "            style=\"display:none;\">\n",
              "\n",
              "  <svg xmlns=\"http://www.w3.org/2000/svg\" height=\"24px\" viewBox=\"0 -960 960 960\">\n",
              "    <path d=\"M120-120v-720h720v720H120Zm60-500h600v-160H180v160Zm220 220h160v-160H400v160Zm0 220h160v-160H400v160ZM180-400h160v-160H180v160Zm440 0h160v-160H620v160ZM180-180h160v-160H180v160Zm440 0h160v-160H620v160Z\"/>\n",
              "  </svg>\n",
              "    </button>\n",
              "\n",
              "  <style>\n",
              "    .colab-df-container {\n",
              "      display:flex;\n",
              "      gap: 12px;\n",
              "    }\n",
              "\n",
              "    .colab-df-convert {\n",
              "      background-color: #E8F0FE;\n",
              "      border: none;\n",
              "      border-radius: 50%;\n",
              "      cursor: pointer;\n",
              "      display: none;\n",
              "      fill: #1967D2;\n",
              "      height: 32px;\n",
              "      padding: 0 0 0 0;\n",
              "      width: 32px;\n",
              "    }\n",
              "\n",
              "    .colab-df-convert:hover {\n",
              "      background-color: #E2EBFA;\n",
              "      box-shadow: 0px 1px 2px rgba(60, 64, 67, 0.3), 0px 1px 3px 1px rgba(60, 64, 67, 0.15);\n",
              "      fill: #174EA6;\n",
              "    }\n",
              "\n",
              "    .colab-df-buttons div {\n",
              "      margin-bottom: 4px;\n",
              "    }\n",
              "\n",
              "    [theme=dark] .colab-df-convert {\n",
              "      background-color: #3B4455;\n",
              "      fill: #D2E3FC;\n",
              "    }\n",
              "\n",
              "    [theme=dark] .colab-df-convert:hover {\n",
              "      background-color: #434B5C;\n",
              "      box-shadow: 0px 1px 3px 1px rgba(0, 0, 0, 0.15);\n",
              "      filter: drop-shadow(0px 1px 2px rgba(0, 0, 0, 0.3));\n",
              "      fill: #FFFFFF;\n",
              "    }\n",
              "  </style>\n",
              "\n",
              "    <script>\n",
              "      const buttonEl =\n",
              "        document.querySelector('#df-c4d56108-b471-4106-b41f-ba9961ce9607 button.colab-df-convert');\n",
              "      buttonEl.style.display =\n",
              "        google.colab.kernel.accessAllowed ? 'block' : 'none';\n",
              "\n",
              "      async function convertToInteractive(key) {\n",
              "        const element = document.querySelector('#df-c4d56108-b471-4106-b41f-ba9961ce9607');\n",
              "        const dataTable =\n",
              "          await google.colab.kernel.invokeFunction('convertToInteractive',\n",
              "                                                    [key], {});\n",
              "        if (!dataTable) return;\n",
              "\n",
              "        const docLinkHtml = 'Like what you see? Visit the ' +\n",
              "          '<a target=\"_blank\" href=https://colab.research.google.com/notebooks/data_table.ipynb>data table notebook</a>'\n",
              "          + ' to learn more about interactive tables.';\n",
              "        element.innerHTML = '';\n",
              "        dataTable['output_type'] = 'display_data';\n",
              "        await google.colab.output.renderOutput(dataTable, element);\n",
              "        const docLink = document.createElement('div');\n",
              "        docLink.innerHTML = docLinkHtml;\n",
              "        element.appendChild(docLink);\n",
              "      }\n",
              "    </script>\n",
              "  </div>\n",
              "\n",
              "\n",
              "    <div id=\"df-acf7b64b-73d9-4832-8754-bca111255cf2\">\n",
              "      <button class=\"colab-df-quickchart\" onclick=\"quickchart('df-acf7b64b-73d9-4832-8754-bca111255cf2')\"\n",
              "                title=\"Suggest charts\"\n",
              "                style=\"display:none;\">\n",
              "\n",
              "<svg xmlns=\"http://www.w3.org/2000/svg\" height=\"24px\"viewBox=\"0 0 24 24\"\n",
              "     width=\"24px\">\n",
              "    <g>\n",
              "        <path d=\"M19 3H5c-1.1 0-2 .9-2 2v14c0 1.1.9 2 2 2h14c1.1 0 2-.9 2-2V5c0-1.1-.9-2-2-2zM9 17H7v-7h2v7zm4 0h-2V7h2v10zm4 0h-2v-4h2v4z\"/>\n",
              "    </g>\n",
              "</svg>\n",
              "      </button>\n",
              "\n",
              "<style>\n",
              "  .colab-df-quickchart {\n",
              "      --bg-color: #E8F0FE;\n",
              "      --fill-color: #1967D2;\n",
              "      --hover-bg-color: #E2EBFA;\n",
              "      --hover-fill-color: #174EA6;\n",
              "      --disabled-fill-color: #AAA;\n",
              "      --disabled-bg-color: #DDD;\n",
              "  }\n",
              "\n",
              "  [theme=dark] .colab-df-quickchart {\n",
              "      --bg-color: #3B4455;\n",
              "      --fill-color: #D2E3FC;\n",
              "      --hover-bg-color: #434B5C;\n",
              "      --hover-fill-color: #FFFFFF;\n",
              "      --disabled-bg-color: #3B4455;\n",
              "      --disabled-fill-color: #666;\n",
              "  }\n",
              "\n",
              "  .colab-df-quickchart {\n",
              "    background-color: var(--bg-color);\n",
              "    border: none;\n",
              "    border-radius: 50%;\n",
              "    cursor: pointer;\n",
              "    display: none;\n",
              "    fill: var(--fill-color);\n",
              "    height: 32px;\n",
              "    padding: 0;\n",
              "    width: 32px;\n",
              "  }\n",
              "\n",
              "  .colab-df-quickchart:hover {\n",
              "    background-color: var(--hover-bg-color);\n",
              "    box-shadow: 0 1px 2px rgba(60, 64, 67, 0.3), 0 1px 3px 1px rgba(60, 64, 67, 0.15);\n",
              "    fill: var(--button-hover-fill-color);\n",
              "  }\n",
              "\n",
              "  .colab-df-quickchart-complete:disabled,\n",
              "  .colab-df-quickchart-complete:disabled:hover {\n",
              "    background-color: var(--disabled-bg-color);\n",
              "    fill: var(--disabled-fill-color);\n",
              "    box-shadow: none;\n",
              "  }\n",
              "\n",
              "  .colab-df-spinner {\n",
              "    border: 2px solid var(--fill-color);\n",
              "    border-color: transparent;\n",
              "    border-bottom-color: var(--fill-color);\n",
              "    animation:\n",
              "      spin 1s steps(1) infinite;\n",
              "  }\n",
              "\n",
              "  @keyframes spin {\n",
              "    0% {\n",
              "      border-color: transparent;\n",
              "      border-bottom-color: var(--fill-color);\n",
              "      border-left-color: var(--fill-color);\n",
              "    }\n",
              "    20% {\n",
              "      border-color: transparent;\n",
              "      border-left-color: var(--fill-color);\n",
              "      border-top-color: var(--fill-color);\n",
              "    }\n",
              "    30% {\n",
              "      border-color: transparent;\n",
              "      border-left-color: var(--fill-color);\n",
              "      border-top-color: var(--fill-color);\n",
              "      border-right-color: var(--fill-color);\n",
              "    }\n",
              "    40% {\n",
              "      border-color: transparent;\n",
              "      border-right-color: var(--fill-color);\n",
              "      border-top-color: var(--fill-color);\n",
              "    }\n",
              "    60% {\n",
              "      border-color: transparent;\n",
              "      border-right-color: var(--fill-color);\n",
              "    }\n",
              "    80% {\n",
              "      border-color: transparent;\n",
              "      border-right-color: var(--fill-color);\n",
              "      border-bottom-color: var(--fill-color);\n",
              "    }\n",
              "    90% {\n",
              "      border-color: transparent;\n",
              "      border-bottom-color: var(--fill-color);\n",
              "    }\n",
              "  }\n",
              "</style>\n",
              "\n",
              "      <script>\n",
              "        async function quickchart(key) {\n",
              "          const quickchartButtonEl =\n",
              "            document.querySelector('#' + key + ' button');\n",
              "          quickchartButtonEl.disabled = true;  // To prevent multiple clicks.\n",
              "          quickchartButtonEl.classList.add('colab-df-spinner');\n",
              "          try {\n",
              "            const charts = await google.colab.kernel.invokeFunction(\n",
              "                'suggestCharts', [key], {});\n",
              "          } catch (error) {\n",
              "            console.error('Error during call to suggestCharts:', error);\n",
              "          }\n",
              "          quickchartButtonEl.classList.remove('colab-df-spinner');\n",
              "          quickchartButtonEl.classList.add('colab-df-quickchart-complete');\n",
              "        }\n",
              "        (() => {\n",
              "          let quickchartButtonEl =\n",
              "            document.querySelector('#df-acf7b64b-73d9-4832-8754-bca111255cf2 button');\n",
              "          quickchartButtonEl.style.display =\n",
              "            google.colab.kernel.accessAllowed ? 'block' : 'none';\n",
              "        })();\n",
              "      </script>\n",
              "    </div>\n",
              "\n",
              "    </div>\n",
              "  </div>\n"
            ],
            "application/vnd.google.colaboratory.intrinsic+json": {
              "type": "dataframe",
              "variable_name": "merged_df",
              "summary": "{\n  \"name\": \"merged_df\",\n  \"rows\": 10798,\n  \"fields\": [\n    {\n      \"column\": \"Opportunity ID\",\n      \"properties\": {\n        \"dtype\": \"string\",\n        \"num_unique_values\": 9928,\n        \"samples\": [\n          \"0068X00001JwHnI\",\n          \"0068X00001NO7kd\",\n          \"0068X00001NxC0w\"\n        ],\n        \"semantic_type\": \"\",\n        \"description\": \"\"\n      }\n    },\n    {\n      \"column\": \"Unnamed: 1\",\n      \"properties\": {\n        \"dtype\": \"number\",\n        \"std\": null,\n        \"min\": null,\n        \"max\": null,\n        \"num_unique_values\": 0,\n        \"samples\": [],\n        \"semantic_type\": \"\",\n        \"description\": \"\"\n      }\n    },\n    {\n      \"column\": \"Opportunity Name\",\n      \"properties\": {\n        \"dtype\": \"string\",\n        \"num_unique_values\": 9831,\n        \"samples\": [],\n        \"semantic_type\": \"\",\n        \"description\": \"\"\n      }\n    },\n    {\n      \"column\": \"Intake Number\",\n      \"properties\": {\n        \"dtype\": \"string\",\n        \"num_unique_values\": 10786,\n        \"samples\": [],\n        \"semantic_type\": \"\",\n        \"description\": \"\"\n      }\n    },\n    {\n      \"column\": \"How old is the roof?\",\n      \"properties\": {\n        \"dtype\": \"category\",\n        \"num_unique_values\": 6,\n        \"samples\": [],\n        \"semantic_type\": \"\",\n        \"description\": \"\"\n      }\n    },\n    {\n      \"column\": \"Number of Roof Layers\",\n      \"properties\": {\n        \"dtype\": \"category\",\n        \"num_unique_values\": 6,\n        \"samples\": [],\n        \"semantic_type\": \"\",\n        \"description\": \"\"\n      }\n    },\n    {\n      \"column\": \"Type of Roofing\",\n      \"properties\": {\n        \"dtype\": \"category\",\n        \"num_unique_values\": 5,\n        \"samples\": [],\n        \"semantic_type\": \"\",\n        \"description\": \"\"\n      }\n    },\n    {\n      \"column\": \"County\",\n      \"properties\": {\n        \"dtype\": \"category\",\n        \"num_unique_values\": 112,\n        \"samples\": [],\n        \"semantic_type\": \"\",\n        \"description\": \"\"\n      }\n    },\n    {\n      \"column\": \"State\",\n      \"properties\": {\n        \"dtype\": \"category\",\n        \"num_unique_values\": 10,\n        \"samples\": [],\n        \"semantic_type\": \"\",\n        \"description\": \"\"\n      }\n    },\n    {\n      \"column\": \"Created Date\",\n      \"properties\": {\n        \"dtype\": \"object\",\n        \"num_unique_values\": 1109,\n        \"samples\": [],\n        \"semantic_type\": \"\",\n        \"description\": \"\"\n      }\n    },\n    {\n      \"column\": \"Roof Work Needed\",\n      \"properties\": {\n        \"dtype\": \"category\",\n        \"num_unique_values\": 3,\n        \"samples\": [],\n        \"semantic_type\": \"\",\n        \"description\": \"\"\n      }\n    }\n  ]\n}"
            }
          },
          "metadata": {},
          "execution_count": 3
        }
      ]
    },
    {
      "cell_type": "code",
      "source": [
        "#Mapping Roof Yes = 1 and No = 0\n",
        "merged_df['Roof Work Needed'] = merged_df['Roof Work Needed'].map({'Yes': 1, 'No': 0})\n",
        "\n",
        "#Dropping Unnamed Columns\n",
        "merged_df = merged_df.drop(columns=['Unnamed: 1'], errors='ignore')\n",
        "\n",
        "#A bit of cleaning\n",
        "most_frequent_type = merged_df.loc[merged_df['Type of Roofing'] != 'Unknown', 'Type of Roofing'].mode()[0]\n",
        "merged_df['Type of Roofing'] = merged_df['Type of Roofing'].replace('Unknown', most_frequent_type)\n",
        "merged_df = merged_df.dropna(subset=[\"Number of Roof Layers\", \"Roof Work Needed\"]).reset_index(drop=True)\n",
        "\n",
        "merged_df.info()"
      ],
      "metadata": {
        "colab": {
          "base_uri": "https://localhost:8080/"
        },
        "id": "msIGwknvnHpF",
        "outputId": "8fd56b54-bd02-47bc-8776-1d82a3832da7"
      },
      "execution_count": 4,
      "outputs": [
        {
          "output_type": "stream",
          "name": "stdout",
          "text": [
            "<class 'pandas.core.frame.DataFrame'>\n",
            "RangeIndex: 10796 entries, 0 to 10795\n",
            "Data columns (total 10 columns):\n",
            " #   Column                 Non-Null Count  Dtype  \n",
            "---  ------                 --------------  -----  \n",
            " 0   Opportunity ID         10796 non-null  object \n",
            " 1   Opportunity Name       10796 non-null  object \n",
            " 2   Intake Number          10796 non-null  object \n",
            " 3   How old is the roof?   10796 non-null  object \n",
            " 4   Number of Roof Layers  10796 non-null  object \n",
            " 5   Type of Roofing        10796 non-null  object \n",
            " 6   County                 10796 non-null  object \n",
            " 7   State                  10796 non-null  object \n",
            " 8   Created Date           10796 non-null  object \n",
            " 9   Roof Work Needed       10796 non-null  float64\n",
            "dtypes: float64(1), object(9)\n",
            "memory usage: 843.6+ KB\n"
          ]
        }
      ]
    },
    {
      "cell_type": "markdown",
      "source": [
        "#Visualizing the dataset\n",
        "As we can see data is cleaned with 0 non null values, lets move on to visualization"
      ],
      "metadata": {
        "id": "Etdgi-Dlnt4k"
      }
    },
    {
      "cell_type": "markdown",
      "source": [
        "Visualizing the target distribution"
      ],
      "metadata": {
        "id": "a8oH5FjLo00F"
      }
    },
    {
      "cell_type": "code",
      "source": [
        "sns.countplot(data=merged_df, x='Roof Work Needed')\n",
        "plt.title('Roof Work Needed Distribution')\n",
        "plt.xticks([0, 1], ['No', 'Yes'])\n",
        "plt.show()\n",
        "\n",
        "print(merged_df['Roof Work Needed'].value_counts(normalize=True))"
      ],
      "metadata": {
        "colab": {
          "base_uri": "https://localhost:8080/",
          "height": 541
        },
        "id": "vifWP538nkfz",
        "outputId": "5cf8707a-130f-4270-cddd-d8a716697ac8"
      },
      "execution_count": 5,
      "outputs": [
        {
          "output_type": "display_data",
          "data": {
            "text/plain": [
              "<Figure size 640x480 with 1 Axes>"
            ],
            "image/png": "[encoded data removed]"
          },
          "metadata": {}
        },
        {
          "output_type": "stream",
          "name": "stdout",
          "text": [
            "Roof Work Needed\n",
            "0.0    0.786773\n",
            "1.0    0.213227\n",
            "Name: proportion, dtype: float64\n"
          ]
        }
      ]
    },
    {
      "cell_type": "markdown",
      "source": [
        "Roof Age vs Roof work needed"
      ],
      "metadata": {
        "id": "XWmdxU9wo5xC"
      }
    },
    {
      "cell_type": "code",
      "source": [
        "age_order = ['0-5 years', '6-10 years', '11-15 years', '16-20 years', 'Above 20 years','Unknown']\n",
        "\n",
        "plt.figure(figsize=(10, 5))\n",
        "sns.countplot(data=merged_df, x='How old is the roof?', hue='Roof Work Needed', order=age_order)\n",
        "plt.title('Roof Age vs Roof Work Needed')\n",
        "plt.xlabel('How Old is the Roof?')\n",
        "plt.ylabel('Count')\n",
        "plt.xticks(rotation=45)\n",
        "plt.legend(title='Roof Work Needed', labels=['No', 'Yes'])\n",
        "plt.tight_layout()\n",
        "plt.show()"
      ],
      "metadata": {
        "colab": {
          "base_uri": "https://localhost:8080/",
          "height": 507
        },
        "id": "yJO1pkRtoSsY",
        "outputId": "9daa09e0-8b34-44b1-93ca-aca0346f8144"
      },
      "execution_count": 6,
      "outputs": [
        {
          "output_type": "display_data",
          "data": {
            "text/plain": [
              "<Figure size 1000x500 with 1 Axes>"
            ],
            "image/png": "[encoded data removed]"
          },
          "metadata": {}
        }
      ]
    },
    {
      "cell_type": "markdown",
      "source": [
        "No. of roof layes vs Roof work needed"
      ],
      "metadata": {
        "id": "16poXVEGo9l5"
      }
    },
    {
      "cell_type": "code",
      "source": [
        "sns.countplot(data=merged_df, x='Number of Roof Layers', hue='Roof Work Needed')\n",
        "plt.title('Number of Roof Layers vs Roof Work Needed')\n",
        "plt.show()"
      ],
      "metadata": {
        "colab": {
          "base_uri": "https://localhost:8080/",
          "height": 472
        },
        "id": "eF9qej5mod1c",
        "outputId": "00b7c89d-3a95-4e4b-bcd5-115b105852ef"
      },
      "execution_count": 7,
      "outputs": [
        {
          "output_type": "display_data",
          "data": {
            "text/plain": [
              "<Figure size 640x480 with 1 Axes>"
            ],
            "image/png": "[encoded data removed]"
          },
          "metadata": {}
        }
      ]
    },
    {
      "cell_type": "markdown",
      "source": [
        "Type of Roofing vs Roof work Needed"
      ],
      "metadata": {
        "id": "aEiJfGHKpSwL"
      }
    },
    {
      "cell_type": "code",
      "source": [
        "sns.countplot(data=merged_df, x='Type of Roofing', hue='Roof Work Needed')\n",
        "plt.title('Number of Roof Layers vs Roof Work Needed')\n",
        "plt.show()"
      ],
      "metadata": {
        "colab": {
          "base_uri": "https://localhost:8080/",
          "height": 472
        },
        "id": "vKixqJtqpI2x",
        "outputId": "0b2d840d-faea-4dc5-f9a5-7318b837f722"
      },
      "execution_count": 8,
      "outputs": [
        {
          "output_type": "display_data",
          "data": {
            "text/plain": [
              "<Figure size 640x480 with 1 Axes>"
            ],
            "image/png": "[encoded data removed]"
          },
          "metadata": {}
        }
      ]
    },
    {
      "cell_type": "markdown",
      "source": [
        "Heatmap showing no. of layers and roof age with target"
      ],
      "metadata": {
        "id": "Sw9ba_5ipAQ9"
      }
    },
    {
      "cell_type": "code",
      "source": [
        "# Pivot table with mean of 'Roof Work Needed' (1 = Yes, 0 = No)\n",
        "heatmap_data = merged_df.pivot_table(\n",
        "    index='How old is the roof?',\n",
        "    columns='Number of Roof Layers',\n",
        "    values='Roof Work Needed',\n",
        "    aggfunc='mean'\n",
        ")\n",
        "\n",
        "# Sorting the roof age categories\n",
        "age_order = ['0-5 years', '6-10 years', '11-15 years', '16-20 years', 'Above 20 years', 'Unknown']\n",
        "heatmap_data = heatmap_data.reindex(age_order)\n",
        "\n",
        "# Plotting heatmap\n",
        "plt.figure(figsize=(10, 6))\n",
        "sns.heatmap(heatmap_data, annot=True, fmt=\".0%\", cmap=\"YlOrRd\", cbar_kws={'label': 'Work Needed %'})\n",
        "plt.title(\"Roof Age & Layers vs Roof Work Needed (%)\")\n",
        "plt.ylabel(\"Roof Age\")\n",
        "plt.xlabel(\"Roof Layers\")\n",
        "plt.show()"
      ],
      "metadata": {
        "colab": {
          "base_uri": "https://localhost:8080/",
          "height": 564
        },
        "id": "hAc9Gjjjon-C",
        "outputId": "9368a296-1543-4363-84d8-a8fd83e585cd"
      },
      "execution_count": 9,
      "outputs": [
        {
          "output_type": "display_data",
          "data": {
            "text/plain": [
              "<Figure size 1000x600 with 2 Axes>"
            ],
            "image/png": "[encoded data removed]"
          },
          "metadata": {}
        }
      ]
    },
    {
      "cell_type": "markdown",
      "source": [
        "#Feature Engineering"
      ],
      "metadata": {
        "id": "N-ZSK1Sqqk4_"
      }
    },
    {
      "cell_type": "markdown",
      "source": [
        "We got a strong signal of features that could possible affect the target value:\n",
        "1. Roof Age\n",
        "2. No. of Layers\n",
        "3. Type of Roofing\n",
        "But these features won't be enough for the model to segregate between which features affect the target value most. So creating more features and Transforming so of the categorical columns"
      ],
      "metadata": {
        "id": "7xd4pDwEp0NH"
      }
    },
    {
      "cell_type": "code",
      "source": [
        "# ---------- Feature Engineering ----------\n",
        "class FastFeatureEnricher(BaseEstimator, TransformerMixin):\n",
        "    def fit(self, X, y=None):\n",
        "        return self\n",
        "\n",
        "    #Normaizing Type of Roofing\n",
        "    def normalize_roof_type(self, val):\n",
        "        if pd.isnull(val): return 'Unknown'\n",
        "        val = val.lower().strip()\n",
        "        if 'shingle' in val: return 'Shingle'\n",
        "        if re.search(r'asphalt|arch', val): return 'Shingle'\n",
        "        if 'tile' in val: return 'Tile'\n",
        "        if 'metal' in val: return 'Metal'\n",
        "        if 'flat' in val: return 'Flat'\n",
        "        if any(x in val for x in ['unknown', 'other', 'n/a', 'na']): return 'Unknown'\n",
        "        return 'Other'\n",
        "\n",
        "\n",
        "    #Transforming the dataset by creating more features from 3 basic ones to help the model learn better\n",
        "    def transform(self, X):\n",
        "        df = X.copy()\n",
        "        id_columns = ['Opportunity ID', 'Opportunity Name', 'Intake Number']\n",
        "        df = df.drop(columns=[col for col in id_columns if col in df.columns])\n",
        "\n",
        "        if 'Created Date' in df.columns:\n",
        "            df['Created Date'] = pd.to_datetime(df['Created Date'], errors='coerce')\n",
        "            df['intake_month'] = df['Created Date'].dt.month.fillna(6).astype(int)\n",
        "            df['intake_weekday'] = df['Created Date'].dt.weekday.fillna(3).astype(int)\n",
        "            df['intake_quarter'] = df['Created Date'].dt.quarter.fillna(2).astype(int)\n",
        "            df['is_storm_season'] = df['intake_month'].isin([5,6,7,8,9]).astype(int)\n",
        "            df.drop(columns=['Created Date'], inplace=True)\n",
        "\n",
        "        age_map = {\n",
        "            \"0-5 years\": 2.5, \"6-10 years\": 8.0, \"11-15 years\": 13.0,\n",
        "            \"16-20 years\": 18.0, \"Above 20 years\": 25.0, \"Unknown\": 11.0\n",
        "        }\n",
        "        roof_age = df.get('How old is the roof?', pd.Series('Unknown', index=df.index))\n",
        "        df['roof_age_num'] = roof_age.map(age_map).fillna(20.0)\n",
        "        df['age_is_unknown'] = (roof_age == 'Unknown').astype(int)\n",
        "\n",
        "        layers_map = {'1':1, '2':2, '3':3, '4':4, '5':5}\n",
        "        roof_layers = df.get('Number of Roof Layers', pd.Series('Unknown', index=df.index)).astype(str)\n",
        "        df['roof_layers_num'] = roof_layers.map(layers_map)\n",
        "        df['layers_is_unknown'] = (roof_layers == 'Unknown').astype(int)\n",
        "        df['roof_layers_num'] = df['roof_layers_num'].fillna(2)\n",
        "\n",
        "        roof_type = df.get('Type of Roofing', pd.Series('Unknown', index=df.index)).astype(str)\n",
        "        df['roof_type_norm'] = roof_type.apply(self.normalize_roof_type)\n",
        "\n",
        "        df['is_old_roof'] = (df['roof_age_num'] >= 15).astype(int)\n",
        "        df['is_very_old_roof'] = (df['roof_age_num'] >= 20).astype(int)\n",
        "        df['has_multiple_layers'] = (df['roof_layers_num'] > 1).astype(int)\n",
        "        df['roof_risk_score'] = df['roof_age_num'] * df['roof_layers_num']\n",
        "\n",
        "        \"\"\"Using County instead of state at this will give us more indepth and locallized view where the Roof work is needed.\n",
        "        And Chosing Top - 10 which acted as high risk counties\"\"\"\n",
        "\n",
        "        high_risk_counties = [\n",
        "            'Queens', 'Fairfield', 'Westchester', 'Staten Island', 'Hartford',\n",
        "            'New Haven', 'Middlesex', 'Brooklyn', 'Suffolk', 'Nassau'\n",
        "        ]\n",
        "        if 'County' in df.columns:\n",
        "            df['high_risk_county'] = df['County'].isin(high_risk_counties).astype(int)\n",
        "        else:\n",
        "            df['high_risk_county'] = 0\n",
        "\n",
        "        for rt in ['Shingle', 'Metal', 'Flat', 'Tile', 'Other']:\n",
        "            colname = f'roof_type_is_{rt}'\n",
        "            df[colname] = (df['roof_type_norm'] == rt).astype(int)\n",
        "            df[f'roof_risk_score_x_{rt}'] = df['roof_risk_score'] * df[colname]\n",
        "\n",
        "        #So now we have more than 20 features\n",
        "        features = [\n",
        "            'roof_age_num', 'age_is_unknown', 'roof_layers_num', 'layers_is_unknown',\n",
        "            'is_old_roof', 'is_very_old_roof', 'has_multiple_layers', 'roof_risk_score',\n",
        "            'high_risk_county', 'intake_month', 'intake_weekday', 'intake_quarter',\n",
        "            'is_storm_season',\n",
        "            'roof_type_is_Shingle', 'roof_type_is_Metal', 'roof_type_is_Flat', 'roof_type_is_Tile', 'roof_type_is_Other',\n",
        "            'roof_risk_score_x_Shingle', 'roof_risk_score_x_Metal', 'roof_risk_score_x_Flat', 'roof_risk_score_x_Tile', 'roof_risk_score_x_Other'\n",
        "        ]\n",
        "        return df[features]"
      ],
      "metadata": {
        "id": "gUCUkG_Xp_3T"
      },
      "execution_count": 10,
      "outputs": []
    },
    {
      "cell_type": "markdown",
      "source": [
        "# Spliting the Dataset"
      ],
      "metadata": {
        "id": "4qRo2kGAsGnx"
      }
    },
    {
      "cell_type": "code",
      "source": [
        "\n",
        "X = merged_df.drop(columns=['Roof Work Needed']).copy()\n",
        "y = merged_df['Roof Work Needed'].astype(int)\n",
        "\n",
        "X_train, X_test, y_train, y_test = train_test_split(\n",
        "    X, y, test_size=0.2, stratify=y, random_state=42\n",
        ")"
      ],
      "metadata": {
        "id": "fLDUbw4qr7Ug"
      },
      "execution_count": 11,
      "outputs": []
    },
    {
      "cell_type": "markdown",
      "source": [
        "Merging the splitted dataset with our Feature Enricher"
      ],
      "metadata": {
        "id": "N9ueCzfNsPFN"
      }
    },
    {
      "cell_type": "code",
      "source": [
        "enricher = FastFeatureEnricher()\n",
        "X_train_fe = enricher.fit_transform(X_train, y_train)\n",
        "X_test_fe = enricher.transform(X_test)\n",
        "\n",
        "all_features = X_train_fe.columns.tolist()"
      ],
      "metadata": {
        "id": "SFBtobr8sN3W"
      },
      "execution_count": 12,
      "outputs": []
    },
    {
      "cell_type": "markdown",
      "source": [
        "#Model Pipeline\n"
      ],
      "metadata": {
        "id": "GMlxOjkosm53"
      }
    },
    {
      "cell_type": "code",
      "source": [
        "# Threshold Helper\n",
        "def optimal_recall_threshold(y_true, y_probs, min_precision=0.45):\n",
        "    precisions, recalls, thresholds = precision_recall_curve(y_true, y_probs)\n",
        "    recalls = recalls[:-1]\n",
        "    precisions = precisions[:-1]\n",
        "    valid = precisions >= min_precision\n",
        "    idx = np.argmax(recalls * valid)\n",
        "    return float(thresholds[idx]), float(recalls[idx]), float(precisions[idx])"
      ],
      "metadata": {
        "id": "l5FVctZOs8yS"
      },
      "execution_count": 13,
      "outputs": []
    },
    {
      "cell_type": "code",
      "source": [
        "def make_pipeline(clf):\n",
        "    return ImbPipeline([\n",
        "        ('imputer', SimpleImputer(strategy='median')),\n",
        "        ('scaler', StandardScaler()),\n",
        "        ('balance', SMOTEENN(random_state=42)),\n",
        "        ('model', clf)\n",
        "    ])\n",
        "\n",
        "# Defining two model pipelines for tuning\n",
        "rf = RandomForestClassifier(random_state=42, n_jobs=-1)\n",
        "cb = cb.CatBoostClassifier(verbose=0, random_seed=42)\n",
        "\n",
        "rf_pipeline = make_pipeline(rf)\n",
        "cb_pipeline = make_pipeline(cb)\n",
        "\n",
        "# Hyperparameter grids for tuning\n",
        "param_rf = {\n",
        "    'model__n_estimators': [100, 300, 500],\n",
        "    'model__max_depth': [8, 10, 12, None],\n",
        "    'model__min_samples_split': [2, 5, 10],\n",
        "    'model__min_samples_leaf': [1, 2, 4]\n",
        "}\n",
        "\n",
        "param_cb = {\n",
        "    'model__depth': [4, 6, 8, 10],\n",
        "    'model__learning_rate': [0.01, 0.05, 0.1],\n",
        "    'model__l2_leaf_reg': [1, 3, 5, 7],\n",
        "    'model__iterations': [100, 300, 500]\n",
        "}\n",
        "\n",
        "print(\"Starting hyperparameter tuning Random Forest...\")\n",
        "search_rf = RandomizedSearchCV(rf_pipeline, param_rf, n_iter=100, cv=3, scoring='recall',\n",
        "                              verbose=2, n_jobs=-1, random_state=42)\n",
        "search_rf.fit(X_train_fe, y_train)\n",
        "print(\"Best RF params:\", search_rf.best_params_)\n",
        "print(\"Best RF recall:\", search_rf.best_score_)\n",
        "\n",
        "print(\"Starting hyperparameter tuning CatBoost...\")\n",
        "search_cb = RandomizedSearchCV(cb_pipeline, param_cb, n_iter=100, cv=3, scoring='recall',\n",
        "                              verbose=2, n_jobs=-1, random_state=42)\n",
        "search_cb.fit(X_train_fe, y_train)\n",
        "print(\"Best CB params:\", search_cb.best_params_)\n",
        "print(\"Best CB recall:\", search_cb.best_score_)"
      ],
      "metadata": {
        "colab": {
          "base_uri": "https://localhost:8080/"
        },
        "id": "wCOh6ybospkh",
        "outputId": "ee15e114-701e-4ddd-a8ae-c457692fea06"
      },
      "execution_count": 14,
      "outputs": [
        {
          "output_type": "stream",
          "name": "stdout",
          "text": [
            "Starting hyperparameter tuning Random Forest...\n",
            "Fitting 3 folds for each of 100 candidates, totalling 300 fits\n",
            "Best RF params: {'model__n_estimators': 500, 'model__min_samples_split': 5, 'model__min_samples_leaf': 4, 'model__max_depth': 8}\n",
            "Best RF recall: 0.6659466534885657\n",
            "Starting hyperparameter tuning CatBoost...\n",
            "Fitting 3 folds for each of 100 candidates, totalling 300 fits\n",
            "Best CB params: {'model__learning_rate': 0.01, 'model__l2_leaf_reg': 1, 'model__iterations': 100, 'model__depth': 4}\n",
            "Best CB recall: 0.7267979517263489\n"
          ]
        }
      ]
    },
    {
      "cell_type": "markdown",
      "source": [
        "So here are our list of top 15 Features"
      ],
      "metadata": {
        "id": "26GSbf4MtTTE"
      }
    },
    {
      "cell_type": "code",
      "source": [
        "# Feature Selection (using RF feature importances)\n",
        "best_rf = search_rf.best_estimator_\n",
        "importances = best_rf.named_steps['model'].feature_importances_\n",
        "feat_importance = pd.Series(importances, index=all_features).sort_values(ascending=False)\n",
        "print(\"\\nTop 15 feature importances:\")\n",
        "print(feat_importance.head(15))"
      ],
      "metadata": {
        "colab": {
          "base_uri": "https://localhost:8080/"
        },
        "id": "b7BM1UzMtKnX",
        "outputId": "be3c269f-2ce7-473c-81a3-798a954599d4"
      },
      "execution_count": 15,
      "outputs": [
        {
          "output_type": "stream",
          "name": "stdout",
          "text": [
            "\n",
            "Top 15 feature importances:\n",
            "roof_age_num                 0.252880\n",
            "roof_risk_score              0.222372\n",
            "is_old_roof                  0.141182\n",
            "roof_risk_score_x_Shingle    0.087158\n",
            "roof_risk_score_x_Other      0.064516\n",
            "is_very_old_roof             0.058966\n",
            "intake_month                 0.029237\n",
            "intake_weekday               0.025816\n",
            "roof_layers_num              0.016256\n",
            "age_is_unknown               0.014569\n",
            "has_multiple_layers          0.013593\n",
            "intake_quarter               0.013280\n",
            "roof_type_is_Shingle         0.012642\n",
            "roof_type_is_Other           0.009602\n",
            "roof_risk_score_x_Flat       0.008666\n",
            "dtype: float64\n"
          ]
        }
      ]
    },
    {
      "cell_type": "markdown",
      "source": [
        "Optionally select top-k features\n"
      ],
      "metadata": {
        "id": "8m8Z-hBztdxx"
      }
    },
    {
      "cell_type": "code",
      "source": [
        "top_k = 15\n",
        "selected_features = feat_importance.head(top_k).index.tolist()\n",
        "print(f\"\\nSelected top {top_k} features for further modeling.\")\n",
        "\n",
        "X_train_selected = X_train_fe[selected_features]\n",
        "X_test_selected = X_test_fe[selected_features]\n",
        "\n",
        "def extract_model_params(param_dict, prefix='model__'):\n",
        "    return {k[len(prefix):]: v for k, v in param_dict.items() if k.startswith(prefix)}"
      ],
      "metadata": {
        "colab": {
          "base_uri": "https://localhost:8080/"
        },
        "id": "PrgUIyBLuPFr",
        "outputId": "2761a0e2-7ba9-4216-f12f-fec0ec35558c"
      },
      "execution_count": 16,
      "outputs": [
        {
          "output_type": "stream",
          "name": "stdout",
          "text": [
            "\n",
            "Selected top 15 features for further modeling.\n"
          ]
        }
      ]
    },
    {
      "cell_type": "markdown",
      "source": [
        "Retraining models on selected features"
      ],
      "metadata": {
        "id": "3rbcP7pCudkK"
      }
    },
    {
      "cell_type": "code",
      "source": [
        "fixed_rf_params = extract_model_params(search_rf.best_params_, prefix='model__')\n",
        "fixed_cb_params = extract_model_params(search_cb.best_params_, prefix='model__')\n",
        "\n",
        "best_rf_selected = make_pipeline(RandomForestClassifier(**fixed_rf_params, random_state=42, n_jobs=-1))\n",
        "best_cb_selected = make_pipeline(CatBoostClassifier(**fixed_cb_params, verbose=0, random_seed=42))\n",
        "\n",
        "best_rf_selected.fit(X_train_selected, y_train)\n",
        "best_cb_selected.fit(X_train_selected, y_train)"
      ],
      "metadata": {
        "colab": {
          "base_uri": "https://localhost:8080/",
          "height": 237
        },
        "id": "sbYTds6uuRls",
        "outputId": "daeb1546-b4cb-4a82-ef46-c2ad55c3ec71"
      },
      "execution_count": 17,
      "outputs": [
        {
          "output_type": "execute_result",
          "data": {
            "text/plain": [
              "Pipeline(steps=[('imputer', SimpleImputer(strategy='median')),\n",
              "                ('scaler', StandardScaler()),\n",
              "                ('balance', SMOTEENN(random_state=42)),\n",
              "                ('model',\n",
              "                 <catboost.core.CatBoostClassifier object at 0x78c146af6ea0>)])"
            ],
            "text/html": [
              "<style>#sk-container-id-1 {\n",
              "  /* Definition of color scheme common for light and dark mode */\n",
              "  --sklearn-color-text: #000;\n",
              "  --sklearn-color-text-muted: #666;\n",
              "  --sklearn-color-line: gray;\n",
              "  /* Definition of color scheme for unfitted estimators */\n",
              "  --sklearn-color-unfitted-level-0: #fff5e6;\n",
              "  --sklearn-color-unfitted-level-1: #f6e4d2;\n",
              "  --sklearn-color-unfitted-level-2: #ffe0b3;\n",
              "  --sklearn-color-unfitted-level-3: chocolate;\n",
              "  /* Definition of color scheme for fitted estimators */\n",
              "  --sklearn-color-fitted-level-0: #f0f8ff;\n",
              "  --sklearn-color-fitted-level-1: #d4ebff;\n",
              "  --sklearn-color-fitted-level-2: #b3dbfd;\n",
              "  --sklearn-color-fitted-level-3: cornflowerblue;\n",
              "\n",
              "  /* Specific color for light theme */\n",
              "  --sklearn-color-text-on-default-background: var(--sg-text-color, var(--theme-code-foreground, var(--jp-content-font-color1, black)));\n",
              "  --sklearn-color-background: var(--sg-background-color, var(--theme-background, var(--jp-layout-color0, white)));\n",
              "  --sklearn-color-border-box: var(--sg-text-color, var(--theme-code-foreground, var(--jp-content-font-color1, black)));\n",
              "  --sklearn-color-icon: #696969;\n",
              "\n",
              "  @media (prefers-color-scheme: dark) {\n",
              "    /* Redefinition of color scheme for dark theme */\n",
              "    --sklearn-color-text-on-default-background: var(--sg-text-color, var(--theme-code-foreground, var(--jp-content-font-color1, white)));\n",
              "    --sklearn-color-background: var(--sg-background-color, var(--theme-background, var(--jp-layout-color0, #111)));\n",
              "    --sklearn-color-border-box: var(--sg-text-color, var(--theme-code-foreground, var(--jp-content-font-color1, white)));\n",
              "    --sklearn-color-icon: #878787;\n",
              "  }\n",
              "}\n",
              "\n",
              "#sk-container-id-1 {\n",
              "  color: var(--sklearn-color-text);\n",
              "}\n",
              "\n",
              "#sk-container-id-1 pre {\n",
              "  padding: 0;\n",
              "}\n",
              "\n",
              "#sk-container-id-1 input.sk-hidden--visually {\n",
              "  border: 0;\n",
              "  clip: rect(1px 1px 1px 1px);\n",
              "  clip: rect(1px, 1px, 1px, 1px);\n",
              "  height: 1px;\n",
              "  margin: -1px;\n",
              "  overflow: hidden;\n",
              "  padding: 0;\n",
              "  position: absolute;\n",
              "  width: 1px;\n",
              "}\n",
              "\n",
              "#sk-container-id-1 div.sk-dashed-wrapped {\n",
              "  border: 1px dashed var(--sklearn-color-line);\n",
              "  margin: 0 0.4em 0.5em 0.4em;\n",
              "  box-sizing: border-box;\n",
              "  padding-bottom: 0.4em;\n",
              "  background-color: var(--sklearn-color-background);\n",
              "}\n",
              "\n",
              "#sk-container-id-1 div.sk-container {\n",
              "  /* jupyter's `normalize.less` sets `[hidden] { display: none; }`\n",
              "     but bootstrap.min.css set `[hidden] { display: none !important; }`\n",
              "     so we also need the `!important` here to be able to override the\n",
              "     default hidden behavior on the sphinx rendered scikit-learn.org.\n",
              "     See: https://github.com/scikit-learn/scikit-learn/issues/21755 */\n",
              "  display: inline-block !important;\n",
              "  position: relative;\n",
              "}\n",
              "\n",
              "#sk-container-id-1 div.sk-text-repr-fallback {\n",
              "  display: none;\n",
              "}\n",
              "\n",
              "div.sk-parallel-item,\n",
              "div.sk-serial,\n",
              "div.sk-item {\n",
              "  /* draw centered vertical line to link estimators */\n",
              "  background-image: linear-gradient(var(--sklearn-color-text-on-default-background), var(--sklearn-color-text-on-default-background));\n",
              "  background-size: 2px 100%;\n",
              "  background-repeat: no-repeat;\n",
              "  background-position: center center;\n",
              "}\n",
              "\n",
              "/* Parallel-specific style estimator block */\n",
              "\n",
              "#sk-container-id-1 div.sk-parallel-item::after {\n",
              "  content: \"\";\n",
              "  width: 100%;\n",
              "  border-bottom: 2px solid var(--sklearn-color-text-on-default-background);\n",
              "  flex-grow: 1;\n",
              "}\n",
              "\n",
              "#sk-container-id-1 div.sk-parallel {\n",
              "  display: flex;\n",
              "  align-items: stretch;\n",
              "  justify-content: center;\n",
              "  background-color: var(--sklearn-color-background);\n",
              "  position: relative;\n",
              "}\n",
              "\n",
              "#sk-container-id-1 div.sk-parallel-item {\n",
              "  display: flex;\n",
              "  flex-direction: column;\n",
              "}\n",
              "\n",
              "#sk-container-id-1 div.sk-parallel-item:first-child::after {\n",
              "  align-self: flex-end;\n",
              "  width: 50%;\n",
              "}\n",
              "\n",
              "#sk-container-id-1 div.sk-parallel-item:last-child::after {\n",
              "  align-self: flex-start;\n",
              "  width: 50%;\n",
              "}\n",
              "\n",
              "#sk-container-id-1 div.sk-parallel-item:only-child::after {\n",
              "  width: 0;\n",
              "}\n",
              "\n",
              "/* Serial-specific style estimator block */\n",
              "\n",
              "#sk-container-id-1 div.sk-serial {\n",
              "  display: flex;\n",
              "  flex-direction: column;\n",
              "  align-items: center;\n",
              "  background-color: var(--sklearn-color-background);\n",
              "  padding-right: 1em;\n",
              "  padding-left: 1em;\n",
              "}\n",
              "\n",
              "\n",
              "/* Toggleable style: style used for estimator/Pipeline/ColumnTransformer box that is\n",
              "clickable and can be expanded/collapsed.\n",
              "- Pipeline and ColumnTransformer use this feature and define the default style\n",
              "- Estimators will overwrite some part of the style using the `sk-estimator` class\n",
              "*/\n",
              "\n",
              "/* Pipeline and ColumnTransformer style (default) */\n",
              "\n",
              "#sk-container-id-1 div.sk-toggleable {\n",
              "  /* Default theme specific background. It is overwritten whether we have a\n",
              "  specific estimator or a Pipeline/ColumnTransformer */\n",
              "  background-color: var(--sklearn-color-background);\n",
              "}\n",
              "\n",
              "/* Toggleable label */\n",
              "#sk-container-id-1 label.sk-toggleable__label {\n",
              "  cursor: pointer;\n",
              "  display: flex;\n",
              "  width: 100%;\n",
              "  margin-bottom: 0;\n",
              "  padding: 0.5em;\n",
              "  box-sizing: border-box;\n",
              "  text-align: center;\n",
              "  align-items: start;\n",
              "  justify-content: space-between;\n",
              "  gap: 0.5em;\n",
              "}\n",
              "\n",
              "#sk-container-id-1 label.sk-toggleable__label .caption {\n",
              "  font-size: 0.6rem;\n",
              "  font-weight: lighter;\n",
              "  color: var(--sklearn-color-text-muted);\n",
              "}\n",
              "\n",
              "#sk-container-id-1 label.sk-toggleable__label-arrow:before {\n",
              "  /* Arrow on the left of the label */\n",
              "  content: \"▸\";\n",
              "  float: left;\n",
              "  margin-right: 0.25em;\n",
              "  color: var(--sklearn-color-icon);\n",
              "}\n",
              "\n",
              "#sk-container-id-1 label.sk-toggleable__label-arrow:hover:before {\n",
              "  color: var(--sklearn-color-text);\n",
              "}\n",
              "\n",
              "/* Toggleable content - dropdown */\n",
              "\n",
              "#sk-container-id-1 div.sk-toggleable__content {\n",
              "  max-height: 0;\n",
              "  max-width: 0;\n",
              "  overflow: hidden;\n",
              "  text-align: left;\n",
              "  /* unfitted */\n",
              "  background-color: var(--sklearn-color-unfitted-level-0);\n",
              "}\n",
              "\n",
              "#sk-container-id-1 div.sk-toggleable__content.fitted {\n",
              "  /* fitted */\n",
              "  background-color: var(--sklearn-color-fitted-level-0);\n",
              "}\n",
              "\n",
              "#sk-container-id-1 div.sk-toggleable__content pre {\n",
              "  margin: 0.2em;\n",
              "  border-radius: 0.25em;\n",
              "  color: var(--sklearn-color-text);\n",
              "  /* unfitted */\n",
              "  background-color: var(--sklearn-color-unfitted-level-0);\n",
              "}\n",
              "\n",
              "#sk-container-id-1 div.sk-toggleable__content.fitted pre {\n",
              "  /* unfitted */\n",
              "  background-color: var(--sklearn-color-fitted-level-0);\n",
              "}\n",
              "\n",
              "#sk-container-id-1 input.sk-toggleable__control:checked~div.sk-toggleable__content {\n",
              "  /* Expand drop-down */\n",
              "  max-height: 200px;\n",
              "  max-width: 100%;\n",
              "  overflow: auto;\n",
              "}\n",
              "\n",
              "#sk-container-id-1 input.sk-toggleable__control:checked~label.sk-toggleable__label-arrow:before {\n",
              "  content: \"▾\";\n",
              "}\n",
              "\n",
              "/* Pipeline/ColumnTransformer-specific style */\n",
              "\n",
              "#sk-container-id-1 div.sk-label input.sk-toggleable__control:checked~label.sk-toggleable__label {\n",
              "  color: var(--sklearn-color-text);\n",
              "  background-color: var(--sklearn-color-unfitted-level-2);\n",
              "}\n",
              "\n",
              "#sk-container-id-1 div.sk-label.fitted input.sk-toggleable__control:checked~label.sk-toggleable__label {\n",
              "  background-color: var(--sklearn-color-fitted-level-2);\n",
              "}\n",
              "\n",
              "/* Estimator-specific style */\n",
              "\n",
              "/* Colorize estimator box */\n",
              "#sk-container-id-1 div.sk-estimator input.sk-toggleable__control:checked~label.sk-toggleable__label {\n",
              "  /* unfitted */\n",
              "  background-color: var(--sklearn-color-unfitted-level-2);\n",
              "}\n",
              "\n",
              "#sk-container-id-1 div.sk-estimator.fitted input.sk-toggleable__control:checked~label.sk-toggleable__label {\n",
              "  /* fitted */\n",
              "  background-color: var(--sklearn-color-fitted-level-2);\n",
              "}\n",
              "\n",
              "#sk-container-id-1 div.sk-label label.sk-toggleable__label,\n",
              "#sk-container-id-1 div.sk-label label {\n",
              "  /* The background is the default theme color */\n",
              "  color: var(--sklearn-color-text-on-default-background);\n",
              "}\n",
              "\n",
              "/* On hover, darken the color of the background */\n",
              "#sk-container-id-1 div.sk-label:hover label.sk-toggleable__label {\n",
              "  color: var(--sklearn-color-text);\n",
              "  background-color: var(--sklearn-color-unfitted-level-2);\n",
              "}\n",
              "\n",
              "/* Label box, darken color on hover, fitted */\n",
              "#sk-container-id-1 div.sk-label.fitted:hover label.sk-toggleable__label.fitted {\n",
              "  color: var(--sklearn-color-text);\n",
              "  background-color: var(--sklearn-color-fitted-level-2);\n",
              "}\n",
              "\n",
              "/* Estimator label */\n",
              "\n",
              "#sk-container-id-1 div.sk-label label {\n",
              "  font-family: monospace;\n",
              "  font-weight: bold;\n",
              "  display: inline-block;\n",
              "  line-height: 1.2em;\n",
              "}\n",
              "\n",
              "#sk-container-id-1 div.sk-label-container {\n",
              "  text-align: center;\n",
              "}\n",
              "\n",
              "/* Estimator-specific */\n",
              "#sk-container-id-1 div.sk-estimator {\n",
              "  font-family: monospace;\n",
              "  border: 1px dotted var(--sklearn-color-border-box);\n",
              "  border-radius: 0.25em;\n",
              "  box-sizing: border-box;\n",
              "  margin-bottom: 0.5em;\n",
              "  /* unfitted */\n",
              "  background-color: var(--sklearn-color-unfitted-level-0);\n",
              "}\n",
              "\n",
              "#sk-container-id-1 div.sk-estimator.fitted {\n",
              "  /* fitted */\n",
              "  background-color: var(--sklearn-color-fitted-level-0);\n",
              "}\n",
              "\n",
              "/* on hover */\n",
              "#sk-container-id-1 div.sk-estimator:hover {\n",
              "  /* unfitted */\n",
              "  background-color: var(--sklearn-color-unfitted-level-2);\n",
              "}\n",
              "\n",
              "#sk-container-id-1 div.sk-estimator.fitted:hover {\n",
              "  /* fitted */\n",
              "  background-color: var(--sklearn-color-fitted-level-2);\n",
              "}\n",
              "\n",
              "/* Specification for estimator info (e.g. \"i\" and \"?\") */\n",
              "\n",
              "/* Common style for \"i\" and \"?\" */\n",
              "\n",
              ".sk-estimator-doc-link,\n",
              "a:link.sk-estimator-doc-link,\n",
              "a:visited.sk-estimator-doc-link {\n",
              "  float: right;\n",
              "  font-size: smaller;\n",
              "  line-height: 1em;\n",
              "  font-family: monospace;\n",
              "  background-color: var(--sklearn-color-background);\n",
              "  border-radius: 1em;\n",
              "  height: 1em;\n",
              "  width: 1em;\n",
              "  text-decoration: none !important;\n",
              "  margin-left: 0.5em;\n",
              "  text-align: center;\n",
              "  /* unfitted */\n",
              "  border: var(--sklearn-color-unfitted-level-1) 1pt solid;\n",
              "  color: var(--sklearn-color-unfitted-level-1);\n",
              "}\n",
              "\n",
              ".sk-estimator-doc-link.fitted,\n",
              "a:link.sk-estimator-doc-link.fitted,\n",
              "a:visited.sk-estimator-doc-link.fitted {\n",
              "  /* fitted */\n",
              "  border: var(--sklearn-color-fitted-level-1) 1pt solid;\n",
              "  color: var(--sklearn-color-fitted-level-1);\n",
              "}\n",
              "\n",
              "/* On hover */\n",
              "div.sk-estimator:hover .sk-estimator-doc-link:hover,\n",
              ".sk-estimator-doc-link:hover,\n",
              "div.sk-label-container:hover .sk-estimator-doc-link:hover,\n",
              ".sk-estimator-doc-link:hover {\n",
              "  /* unfitted */\n",
              "  background-color: var(--sklearn-color-unfitted-level-3);\n",
              "  color: var(--sklearn-color-background);\n",
              "  text-decoration: none;\n",
              "}\n",
              "\n",
              "div.sk-estimator.fitted:hover .sk-estimator-doc-link.fitted:hover,\n",
              ".sk-estimator-doc-link.fitted:hover,\n",
              "div.sk-label-container:hover .sk-estimator-doc-link.fitted:hover,\n",
              ".sk-estimator-doc-link.fitted:hover {\n",
              "  /* fitted */\n",
              "  background-color: var(--sklearn-color-fitted-level-3);\n",
              "  color: var(--sklearn-color-background);\n",
              "  text-decoration: none;\n",
              "}\n",
              "\n",
              "/* Span, style for the box shown on hovering the info icon */\n",
              ".sk-estimator-doc-link span {\n",
              "  display: none;\n",
              "  z-index: 9999;\n",
              "  position: relative;\n",
              "  font-weight: normal;\n",
              "  right: .2ex;\n",
              "  padding: .5ex;\n",
              "  margin: .5ex;\n",
              "  width: min-content;\n",
              "  min-width: 20ex;\n",
              "  max-width: 50ex;\n",
              "  color: var(--sklearn-color-text);\n",
              "  box-shadow: 2pt 2pt 4pt #999;\n",
              "  /* unfitted */\n",
              "  background: var(--sklearn-color-unfitted-level-0);\n",
              "  border: .5pt solid var(--sklearn-color-unfitted-level-3);\n",
              "}\n",
              "\n",
              ".sk-estimator-doc-link.fitted span {\n",
              "  /* fitted */\n",
              "  background: var(--sklearn-color-fitted-level-0);\n",
              "  border: var(--sklearn-color-fitted-level-3);\n",
              "}\n",
              "\n",
              ".sk-estimator-doc-link:hover span {\n",
              "  display: block;\n",
              "}\n",
              "\n",
              "/* \"?\"-specific style due to the `<a>` HTML tag */\n",
              "\n",
              "#sk-container-id-1 a.estimator_doc_link {\n",
              "  float: right;\n",
              "  font-size: 1rem;\n",
              "  line-height: 1em;\n",
              "  font-family: monospace;\n",
              "  background-color: var(--sklearn-color-background);\n",
              "  border-radius: 1rem;\n",
              "  height: 1rem;\n",
              "  width: 1rem;\n",
              "  text-decoration: none;\n",
              "  /* unfitted */\n",
              "  color: var(--sklearn-color-unfitted-level-1);\n",
              "  border: var(--sklearn-color-unfitted-level-1) 1pt solid;\n",
              "}\n",
              "\n",
              "#sk-container-id-1 a.estimator_doc_link.fitted {\n",
              "  /* fitted */\n",
              "  border: var(--sklearn-color-fitted-level-1) 1pt solid;\n",
              "  color: var(--sklearn-color-fitted-level-1);\n",
              "}\n",
              "\n",
              "/* On hover */\n",
              "#sk-container-id-1 a.estimator_doc_link:hover {\n",
              "  /* unfitted */\n",
              "  background-color: var(--sklearn-color-unfitted-level-3);\n",
              "  color: var(--sklearn-color-background);\n",
              "  text-decoration: none;\n",
              "}\n",
              "\n",
              "#sk-container-id-1 a.estimator_doc_link.fitted:hover {\n",
              "  /* fitted */\n",
              "  background-color: var(--sklearn-color-fitted-level-3);\n",
              "}\n",
              "</style><div id=\"sk-container-id-1\" class=\"sk-top-container\"><div class=\"sk-text-repr-fallback\"><pre>Pipeline(steps=[(&#x27;imputer&#x27;, SimpleImputer(strategy=&#x27;median&#x27;)),\n",
              "                (&#x27;scaler&#x27;, StandardScaler()),\n",
              "                (&#x27;balance&#x27;, SMOTEENN(random_state=42)),\n",
              "                (&#x27;model&#x27;,\n",
              "                 &lt;catboost.core.CatBoostClassifier object at 0x78c146af6ea0&gt;)])</pre><b>In a Jupyter environment, please rerun this cell to show the HTML representation or trust the notebook. <br />On GitHub, the HTML representation is unable to render, please try loading this page with nbviewer.org.</b></div><div class=\"sk-container\" hidden><div class=\"sk-item sk-dashed-wrapped\"><div class=\"sk-label-container\"><div class=\"sk-label fitted sk-toggleable\"><input class=\"sk-toggleable__control sk-hidden--visually\" id=\"sk-estimator-id-1\" type=\"checkbox\" ><label for=\"sk-estimator-id-1\" class=\"sk-toggleable__label fitted sk-toggleable__label-arrow\"><div><div>Pipeline</div></div><div><span class=\"sk-estimator-doc-link fitted\">i<span>Fitted</span></span></div></label><div class=\"sk-toggleable__content fitted\"><pre>Pipeline(steps=[(&#x27;imputer&#x27;, SimpleImputer(strategy=&#x27;median&#x27;)),\n",
              "                (&#x27;scaler&#x27;, StandardScaler()),\n",
              "                (&#x27;balance&#x27;, SMOTEENN(random_state=42)),\n",
              "                (&#x27;model&#x27;,\n",
              "                 &lt;catboost.core.CatBoostClassifier object at 0x78c146af6ea0&gt;)])</pre></div> </div></div><div class=\"sk-serial\"><div class=\"sk-item\"><div class=\"sk-estimator fitted sk-toggleable\"><input class=\"sk-toggleable__control sk-hidden--visually\" id=\"sk-estimator-id-2\" type=\"checkbox\" ><label for=\"sk-estimator-id-2\" class=\"sk-toggleable__label fitted sk-toggleable__label-arrow\"><div><div>SimpleImputer</div></div><div><a class=\"sk-estimator-doc-link fitted\" rel=\"noreferrer\" target=\"_blank\" href=\"https://scikit-learn.org/1.6/modules/generated/sklearn.impute.SimpleImputer.html\">?<span>Documentation for SimpleImputer</span></a></div></label><div class=\"sk-toggleable__content fitted\"><pre>SimpleImputer(strategy=&#x27;median&#x27;)</pre></div> </div></div><div class=\"sk-item\"><div class=\"sk-estimator fitted sk-toggleable\"><input class=\"sk-toggleable__control sk-hidden--visually\" id=\"sk-estimator-id-3\" type=\"checkbox\" ><label for=\"sk-estimator-id-3\" class=\"sk-toggleable__label fitted sk-toggleable__label-arrow\"><div><div>StandardScaler</div></div><div><a class=\"sk-estimator-doc-link fitted\" rel=\"noreferrer\" target=\"_blank\" href=\"https://scikit-learn.org/1.6/modules/generated/sklearn.preprocessing.StandardScaler.html\">?<span>Documentation for StandardScaler</span></a></div></label><div class=\"sk-toggleable__content fitted\"><pre>StandardScaler()</pre></div> </div></div><div class=\"sk-item\"><div class=\"sk-estimator fitted sk-toggleable\"><input class=\"sk-toggleable__control sk-hidden--visually\" id=\"sk-estimator-id-4\" type=\"checkbox\" ><label for=\"sk-estimator-id-4\" class=\"sk-toggleable__label fitted sk-toggleable__label-arrow\"><div><div>SMOTEENN</div></div></label><div class=\"sk-toggleable__content fitted\"><pre>SMOTEENN(random_state=42)</pre></div> </div></div><div class=\"sk-item\"><div class=\"sk-estimator fitted sk-toggleable\"><input class=\"sk-toggleable__control sk-hidden--visually\" id=\"sk-estimator-id-5\" type=\"checkbox\" ><label for=\"sk-estimator-id-5\" class=\"sk-toggleable__label fitted sk-toggleable__label-arrow\"><div><div>CatBoostClassifier</div></div></label><div class=\"sk-toggleable__content fitted\"><pre>&lt;catboost.core.CatBoostClassifier object at 0x78c146af6ea0&gt;</pre></div> </div></div></div></div></div></div>"
            ]
          },
          "metadata": {},
          "execution_count": 17
        }
      ]
    },
    {
      "cell_type": "code",
      "source": [
        "# Stacking Ensemble with selected features\n",
        "estimators = [\n",
        "    ('rf', best_rf_selected),\n",
        "    ('cb', best_cb_selected)\n",
        "]\n",
        "\n",
        "stacking_clf = StackingClassifier(\n",
        "    estimators=estimators,\n",
        "    final_estimator=LogisticRegression(max_iter=1000, random_state=42),\n",
        "    cv=StratifiedKFold(n_splits=3, shuffle=True, random_state=42),\n",
        "    n_jobs=-1,\n",
        "    passthrough=True\n",
        ")\n",
        "\n",
        "stacking_clf.fit(X_train_selected, y_train)\n",
        "\n",
        "# Threshold calibration function\n",
        "def calibrate_and_predict(clf, X_val, y_val, min_precision=0.45):\n",
        "    y_probs = clf.predict_proba(X_val)[:,1]\n",
        "    th, recall, precision = optimal_recall_threshold(y_val, y_probs, min_precision)\n",
        "    y_pred = (y_probs >= th).astype(int)\n",
        "    return y_pred, y_probs, th, recall, precision\n",
        "\n",
        "\n",
        "#Evaluating each model with threshold calibration\n",
        "print(\"\\nEvaluating final models with threshold calibration...\\n\")\n",
        "\n",
        "models = {\n",
        "    'RandomForest': (best_rf_selected, X_test_selected),\n",
        "    'CatBoost': (best_cb_selected, X_test_selected),\n",
        "    'Stacking': (stacking_clf, X_test_selected)\n",
        "}\n",
        "\n",
        "results = {}\n",
        "\n",
        "for name, (model, X_eval) in models.items():\n",
        "    y_pred, y_probs, th, recall, precision = calibrate_and_predict(model, X_eval, y_test)\n",
        "    roc_auc = roc_auc_score(y_test, y_probs)\n",
        "    pr_auc = average_precision_score(y_test, y_probs)\n",
        "    f1 = f1_score(y_test, y_pred)\n",
        "    tn, fp, fn, tp = confusion_matrix(y_test, y_pred).ravel()\n",
        "    results[name] = {\n",
        "        \"ROC-AUC\": roc_auc,\n",
        "        \"PR-AUC\": pr_auc,\n",
        "        \"F1\": f1,\n",
        "        \"Precision\": precision,\n",
        "        \"Recall\": recall,\n",
        "        \"Threshold\": th,\n",
        "        \"tp\": tp,\n",
        "        \"fp\": fp,\n",
        "        \"fn\": fn,\n",
        "        \"tn\": tn,\n",
        "    }\n",
        "    print(f\"📊 {name} Evaluation\")\n",
        "    print(f\"ROC-AUC: {roc_auc:.3f} | PR-AUC: {pr_auc:.3f}\")\n",
        "    print(f\"Recall: {recall:.3f} (Threshold: {th:.3f}), Precision: {precision:.3f}, F1: {f1:.3f}\")\n",
        "    print(f\"Confusion matrix: TP={tp}, FP={fp}, FN={fn}, TN={tn}\")\n",
        "\n",
        "print(f\"\\n⏱️ Total runtime: {(time.time() - start_time)/60:.1f} min\")\n"
      ],
      "metadata": {
        "colab": {
          "base_uri": "https://localhost:8080/"
        },
        "id": "kWxtXfCHuhFN",
        "outputId": "62daf4f6-8062-45f2-8fc7-6412ce87d8d6"
      },
      "execution_count": 18,
      "outputs": [
        {
          "output_type": "stream",
          "name": "stdout",
          "text": [
            "\n",
            "Evaluating final models with threshold calibration...\n",
            "\n",
            "📊 RandomForest Evaluation\n",
            "ROC-AUC: 0.794 | PR-AUC: 0.552\n",
            "Recall: 0.679 (Threshold: 0.346), Precision: 0.450, F1: 0.542\n",
            "Confusion matrix: TP=313, FP=382, FN=148, TN=1317\n",
            "📊 CatBoost Evaluation\n",
            "ROC-AUC: 0.797 | PR-AUC: 0.557\n",
            "Recall: 0.688 (Threshold: 0.427), Precision: 0.450, F1: 0.544\n",
            "Confusion matrix: TP=317, FP=387, FN=144, TN=1312\n",
            "📊 Stacking Evaluation\n",
            "ROC-AUC: 0.799 | PR-AUC: 0.565\n",
            "Recall: 0.725 (Threshold: 0.232), Precision: 0.450, F1: 0.555\n",
            "Confusion matrix: TP=334, FP=408, FN=127, TN=1291\n",
            "\n",
            "⏱️ Total runtime: 28.3 min\n"
          ]
        }
      ]
    },
    {
      "cell_type": "markdown",
      "source": [
        "#Saving the Stacking model in pickle file with complete pipeline"
      ],
      "metadata": {
        "id": "j8MBcOlxvOvU"
      }
    },
    {
      "cell_type": "code",
      "source": [],
      "metadata": {
        "id": "8LGd0RjEML7Z"
      },
      "execution_count": null,
      "outputs": []
    },
    {
      "cell_type": "code",
      "source": [
        "from sklearn.pipeline import Pipeline\n",
        "import joblib\n",
        "\n",
        "# A transformer that selects only the top features\n",
        "from sklearn.base import BaseEstimator, TransformerMixin\n",
        "\n",
        "class FeatureSelector(BaseEstimator, TransformerMixin):\n",
        "    def __init__(self, features):\n",
        "        self.features = features\n",
        "    def fit(self, X, y=None):\n",
        "        return self\n",
        "    def transform(self, X):\n",
        "        return X[self.features]\n",
        "\n",
        "# Build final pipeline\n",
        "pipe = Pipeline([\n",
        "    (\"enricher\", FastFeatureEnricher()),   # feature engineering\n",
        "    (\"selector\", FeatureSelector(selected_features)),  # top-k features\n",
        "    (\"model\", stacking_clf)                # trained stacking model\n",
        "])\n",
        "\n",
        "# Refit on raw training data (X_train, y_train)\n",
        "pipe.fit(X_train, y_train)\n",
        "\n",
        "# Save the pipeline\n",
        "joblib.dump(pipe, \"stacking_roof_model.pkl\")\n",
        "print(\"✅ Stacking pipeline saved as 'stacking_roof_model.pkl'\")\n"
      ],
      "metadata": {
        "colab": {
          "base_uri": "https://localhost:8080/"
        },
        "id": "pw7VbpuXvR0F",
        "outputId": "ff02393a-3e66-4ff8-b385-5c14cbcc3935"
      },
      "execution_count": 19,
      "outputs": [
        {
          "output_type": "stream",
          "name": "stdout",
          "text": [
            "✅ Stacking pipeline saved as 'stacking_roof_model.pkl'\n"
          ]
        }
      ]
    },
    {
      "cell_type": "code",
      "source": [
        "# Save all necessary pieces\n",
        "joblib.dump({\n",
        "    \"stacking_model\": stacking_clf,         # or pipe if you use a full Pipeline\n",
        "    \"selected_features\": selected_features,\n",
        "    \"enricher\": enricher\n",
        "}, \"stacking_roof_model1.pkl\")\n",
        "print(\"✅ Stacking pipeline saved as 'stacking_roof_model1.pkl'\")"
      ],
      "metadata": {
        "colab": {
          "base_uri": "https://localhost:8080/"
        },
        "id": "ZZYwLoccNIgA",
        "outputId": "7fdacfe8-4149-46fb-b3d4-ac796536b252"
      },
      "execution_count": 20,
      "outputs": [
        {
          "output_type": "stream",
          "name": "stdout",
          "text": [
            "✅ Stacking pipeline saved as 'stacking_roof_model1.pkl'\n"
          ]
        }
      ]
    },
    {
      "cell_type": "code",
      "source": [
        "joblib.dump({\n",
        "    \"catboost_model\": best_cb_selected,\n",
        "    \"selected_features\": selected_features,\n",
        "    \"enricher\": enricher\n",
        "}, \"catboost_roof_model.pkl\")\n",
        "print(\"✅ Stacking pipeline saved as 'catboost_model.pkl'\")"
      ],
      "metadata": {
        "colab": {
          "base_uri": "https://localhost:8080/"
        },
        "id": "KX2lj8QRQCn6",
        "outputId": "c3fabdc6-ad8c-4e7e-a1cc-7316414b1e33"
      },
      "execution_count": 21,
      "outputs": [
        {
          "output_type": "stream",
          "name": "stdout",
          "text": [
            "✅ Stacking pipeline saved as 'catboost_model.pkl'\n"
          ]
        }
      ]
    }
  ]
}